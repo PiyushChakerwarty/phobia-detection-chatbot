{
 "cells": [
  {
   "cell_type": "code",
   "execution_count": 1,
   "metadata": {},
   "outputs": [
    {
     "name": "stderr",
     "output_type": "stream",
     "text": [
      "[nltk_data] Downloading package punkt to /Users/piyush/nltk_data...\n",
      "[nltk_data]   Package punkt is already up-to-date!\n"
     ]
    },
    {
     "data": {
      "text/plain": [
       "True"
      ]
     },
     "execution_count": 1,
     "metadata": {},
     "output_type": "execute_result"
    }
   ],
   "source": [
    "import nltk\n",
    "nltk.download('punkt')\n"
   ]
  },
  {
   "cell_type": "code",
   "execution_count": 2,
   "metadata": {},
   "outputs": [
    {
     "name": "stdout",
     "output_type": "stream",
     "text": [
      "['This', 'is', 'a', 'test', 'sentence', '.']\n"
     ]
    }
   ],
   "source": [
    "# Convert dictionary to DataFrame\n",
    "# symptom_df = symptom_weights.T\n",
    "# symptom_df = symptom_df.fillna(0)  # Replace NaNs with 0 for symptoms not associated with a phobia\n",
    "# symptom_df.reset_index(inplace=True)\n",
    "# symptom_df.rename(columns={'index': 'symptom'}, inplace=True)\n",
    "\n",
    "# symptom_df.head()"
   ]
  },
  {
   "cell_type": "code",
   "execution_count": null,
   "metadata": {},
   "outputs": [],
   "source": [
    "# nltk_data_dir = os.path.join(os.environ['CONDA_PREFIX'], 'nltk_data')\n",
    "# nltk_data_dir\n",
    "\n",
    "# # Installing punkt_tab\n",
    "# nltk_data_dir = os.path.join(os.environ['CONDA_PREFIX'], 'nltk_data')\n",
    "# # Create the directory if it doesn't exist\n",
    "# if not os.path.exists(nltk_data_dir):\n",
    "#     os.makedirs(nltk_data_dir)\n",
    "\n",
    "# # Add this directory to the NLTK data path\n",
    "# nltk.data.path.append(nltk_data_dir)\n",
    "\n",
    "# # Download the 'punkt' tokenizer to the conda environment\n",
    "# nltk.download('punkt_tab', download_dir=nltk_data_dir)\n",
    "\n"
   ]
  },
  {
   "cell_type": "code",
   "execution_count": null,
   "metadata": {},
   "outputs": [],
   "source": [
    "# from transformers import BertTokenizer, BertModel\n",
    "# import torch\n",
    "# from sklearn.metrics.pairwise import cosine_similarity\n",
    "\n",
    "# # Load pre-trained BERT model and tokenizer\n",
    "# tokenizer = BertTokenizer.from_pretrained('bert-base-uncased')\n",
    "# model = BertModel.from_pretrained('bert-base-uncased')\n",
    "\n",
    "# # Function to get BERT embeddings for symptoms\n",
    "# def get_symptom_embedding(symptom, tokenizer, model):\n",
    "#     symptom_inputs = tokenizer(symptom, return_tensors='pt')\n",
    "#     with torch.no_grad():\n",
    "#         symptom_outputs = model(**symptom_inputs)\n",
    "#     return symptom_outputs.last_hidden_state.mean(dim=1).numpy()\n",
    "\n",
    "# # Convert symptoms in the dictionary to embeddings\n",
    "# symptom_embeddings = {}\n",
    "# for symptom in symptom_df['symptom']:\n",
    "#     symptom_embeddings[symptom] = get_symptom_embedding(symptom, tokenizer, model)\n",
    "\n",
    "# # Function to match symptoms with user input\n",
    "# def find_matching_symptom(user_input, symptom_embeddings, tokenizer, model):\n",
    "#     user_inputs = tokenizer(user_input, return_tensors='pt')\n",
    "#     with torch.no_grad():\n",
    "#         user_outputs = model(**user_inputs)\n",
    "#     user_embedding = user_outputs.last_hidden_state.mean(dim=1).numpy()\n",
    "\n",
    "#     similarities = {}\n",
    "#     for symptom, embedding in symptom_embeddings.items():\n",
    "#         similarities[symptom] = cosine_similarity(user_embedding, embedding)\n",
    "    \n",
    "#     return sorted(similarities.items(), key=lambda x: x[1], reverse=True)\n",
    "\n",
    "# # Function to get phobia associations based on matched symptoms\n",
    "# def get_phobia_associations(matching_symptoms, symptom_df):\n",
    "#     phobia_associations = {}\n",
    "#     for symptom, score in matching_symptoms:\n",
    "#         associated_phobias = symptom_df[symptom_df['symptom'] == symptom].drop('symptom', axis=1).to_dict('records')[0]\n",
    "#         for phobia, weight in associated_phobias.items():\n",
    "#             if phobia not in phobia_associations:\n",
    "#                 phobia_associations[phobia] = 0\n",
    "#             phobia_associations[phobia] += weight * score\n",
    "    \n",
    "#     return sorted(phobia_associations.items(), key=lambda x: x[1], reverse=True)\n",
    "\n",
    "# # Example user input\n",
    "# user_input = \"I am feeling dizzy and experiencing shortness of breath\"\n",
    "\n",
    "# # Get matching symptoms and phobia associations\n",
    "# matches = find_matching_symptom(user_input, symptom_embeddings, tokenizer, model)\n",
    "# phobia_associations = get_phobia_associations(matches, symptom_df)\n",
    "\n",
    "# # Output the top phobia associations\n",
    "# print(phobia_associations)\n"
   ]
  },
  {
   "cell_type": "markdown",
   "metadata": {},
   "source": []
  }
 ],
 "metadata": {
  "kernelspec": {
   "display_name": "Python 3 (ipykernel)",
   "language": "python",
   "name": "python3"
  },
  "language_info": {
   "codemirror_mode": {
    "name": "ipython",
    "version": 3
   },
   "file_extension": ".py",
   "mimetype": "text/x-python",
   "name": "python",
   "nbconvert_exporter": "python",
   "pygments_lexer": "ipython3",
   "version": "3.9.7"
  },
  "varInspector": {
   "cols": {
    "lenName": 16,
    "lenType": 16,
    "lenVar": 40
   },
   "kernels_config": {
    "python": {
     "delete_cmd_postfix": "",
     "delete_cmd_prefix": "del ",
     "library": "var_list.py",
     "varRefreshCmd": "print(var_dic_list())"
    },
    "r": {
     "delete_cmd_postfix": ") ",
     "delete_cmd_prefix": "rm(",
     "library": "var_list.r",
     "varRefreshCmd": "cat(var_dic_list()) "
    }
   },
   "types_to_exclude": [
    "module",
    "function",
    "builtin_function_or_method",
    "instance",
    "_Feature"
   ],
   "window_display": false
  }
 },
 "nbformat": 4,
 "nbformat_minor": 2
}
